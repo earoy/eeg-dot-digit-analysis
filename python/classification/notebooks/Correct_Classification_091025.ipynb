{
 "cells": [
  {
   "cell_type": "code",
   "execution_count": 3,
   "id": "f90b1d40",
   "metadata": {},
   "outputs": [],
   "source": [
    "import pandas as pd\n",
    "import numpy as np\n",
    "import os.path as op\n",
    "import pickle as pkl\n",
    "import seaborn as sns\n",
    "import matplotlib.pyplot as plt\n",
    "from scipy import stats\n",
    "\n",
    "from glob import glob"
   ]
  },
  {
   "cell_type": "markdown",
   "id": "8d82a57e",
   "metadata": {},
   "source": [
    "# Load Individual Results"
   ]
  },
  {
   "cell_type": "markdown",
   "id": "1a71bbe6",
   "metadata": {},
   "source": [
    "## Classifiers"
   ]
  },
  {
   "cell_type": "code",
   "execution_count": 4,
   "id": "8de903a1",
   "metadata": {},
   "outputs": [
    {
     "name": "stdout",
     "output_type": "stream",
     "text": [
      "Loading ENI_218\n"
     ]
    },
    {
     "name": "stderr",
     "output_type": "stream",
     "text": [
      "/home/groups/jyeatman/software/ethanroy/envs/mne/lib/python3.12/site-packages/xgboost/core.py:377: FutureWarning: Your system has an old version of glibc (< 2.28). We will stop supporting Linux distros with glibc older than 2.28 after **May 31, 2025**. Please upgrade to a recent Linux distro (with glibc >= 2.28) to use future versions of XGBoost.\n",
      "Note: You have installed the 'manylinux2014' variant of XGBoost. Certain features such as GPU algorithms or federated learning are not available. To use these features, please upgrade to a recent Linux distro with glibc 2.28+, and install the 'manylinux_2_28' variant.\n",
      "  warnings.warn(\n"
     ]
    },
    {
     "name": "stdout",
     "output_type": "stream",
     "text": [
      "Loading ENI_203\n",
      "Loading ENI_208\n",
      "Loading ENI_201\n",
      "Loading ENI_211\n",
      "Loading ENI_222\n",
      "Loading ENI_206\n",
      "Loading ENI_209\n",
      "Loading ENI_200\n",
      "Loading ENI_213\n",
      "Loading ENI_212\n",
      "Loading ENI_217\n",
      "Loading ENI_219\n",
      "Loading ENI_205\n",
      "Loading ENI_207\n",
      "Loading ENI_210\n",
      "Loading ENI_202\n"
     ]
    }
   ],
   "source": [
    "# load data\n",
    "data_dir = '/scratch/users/ethanroy/eeg_groupitizing_data/results/classification_results'\n",
    "\n",
    "files = glob(op.join(data_dir,'ENI_2*.pkl'))\n",
    "\n",
    "subs_dict = {}\n",
    "\n",
    "for file in files:\n",
    "    \n",
    "    subjectID = file.split('/')[-1][0:7]\n",
    "    \n",
    "    print(f\"Loading {subjectID}\")\n",
    "    # Load data for pilot 1\n",
    "    with open(file, 'rb') as f:\n",
    "        ind_dict = pkl.load(f)\n",
    "        subs_dict[subjectID] = ind_dict\n",
    "    "
   ]
  },
  {
   "cell_type": "markdown",
   "id": "a103da8e",
   "metadata": {},
   "source": [
    "## Permutation Tests"
   ]
  },
  {
   "cell_type": "code",
   "execution_count": 66,
   "id": "7aa87df1",
   "metadata": {},
   "outputs": [
    {
     "data": {
      "text/plain": [
       "['ENI_209_labels_numerosity_combined_perm_results.pkl',\n",
       " 'ENI_201_labels_numerosity_combined_perm_results.pkl',\n",
       " 'ENI_219_labels_numerosity_combined_perm_results.pkl',\n",
       " 'ENI_210_labels_numerosity_combined_perm_results.pkl',\n",
       " 'ENI_211_labels_numerosity_combined_perm_results.pkl',\n",
       " 'ENI_203_labels_numerosity_combined_perm_results.pkl',\n",
       " 'ENI_205_labels_numerosity_combined_perm_results.pkl',\n",
       " 'ENI_202_labels_numerosity_combined_perm_results.pkl',\n",
       " 'ENI_213_labels_numerosity_combined_perm_results.pkl',\n",
       " 'ENI_218_labels_numerosity_combined_perm_results.pkl',\n",
       " 'ENI_217_labels_numerosity_combined_perm_results.pkl',\n",
       " 'ENI_207_labels_numerosity_combined_perm_results.pkl',\n",
       " 'ENI_212_labels_numerosity_combined_perm_results.pkl',\n",
       " 'ENI_222_labels_numerosity_combined_perm_results.pkl',\n",
       " 'ENI_200_labels_numerosity_combined_perm_results.pkl',\n",
       " 'ENI_208_labels_numerosity_combined_perm_results.pkl',\n",
       " 'ENI_206_labels_numerosity_combined_perm_results.pkl']"
      ]
     },
     "execution_count": 66,
     "metadata": {},
     "output_type": "execute_result"
    }
   ],
   "source": [
    "test_files = glob(op.join(res_dir, '*_labels_numerosity_combined_perm_results.pkl'))\n",
    "\n",
    "[i.split('/')[-1] for i in test_files]\n",
    "\n"
   ]
  },
  {
   "cell_type": "code",
   "execution_count": 5,
   "id": "c7edd0d0",
   "metadata": {},
   "outputs": [],
   "source": [
    "res_dir = '/scratch/users/ethanroy/eeg_groupitizing_data/results/perm_results/'\n",
    "\n",
    "files = glob(op.join(res_dir, '*_classification_perm_results.pkl'))"
   ]
  },
  {
   "cell_type": "code",
   "execution_count": 6,
   "id": "6c90ebc7",
   "metadata": {},
   "outputs": [],
   "source": [
    "perm_results = {}\n",
    "\n",
    "for file in files:\n",
    "    \n",
    "    sub = file.split('/')[-1][0:7]\n",
    "    \n",
    "    with open(file, 'rb') as f:\n",
    "        ind_dict = pkl.load(f)\n",
    "        perm_results = perm_results|ind_dict\n",
    "        \n",
    "    "
   ]
  },
  {
   "cell_type": "markdown",
   "id": "5ae4efcb",
   "metadata": {},
   "source": [
    "# Overall Accuracy"
   ]
  },
  {
   "cell_type": "code",
   "execution_count": 19,
   "id": "a6469f9d",
   "metadata": {},
   "outputs": [],
   "source": [
    "overall_acc_df = pd.DataFrame()\n",
    "overall_acc_df_wide = pd.DataFrame()\n",
    "\n",
    "\n",
    "for sub in perm_results.keys():\n",
    "    \n",
    "    sub_row = {'Participant':sub,\n",
    "               'score_solution': perm_results[sub]['overall_accuracy_solution']['score'],\n",
    "               'score_equals': perm_results[sub]['overall_accuracy_eq']['score']}\n",
    "\n",
    "    # Concatenate the original DataFrame and the new row DataFrame\n",
    "    overall_acc_df_wide = pd.concat([overall_acc_df_wide, pd.DataFrame([sub_row])], ignore_index=True)\n",
    "\n",
    "    \n",
    "    sub_row = {'Participant':sub,\n",
    "               'epoch': 'solution',\n",
    "               'score': perm_results[sub]['overall_accuracy_solution']['score'],\n",
    "               'pval': perm_results[sub]['overall_accuracy_solution']['pvals']}\n",
    "\n",
    "    # Concatenate the original DataFrame and the new row DataFrame\n",
    "    overall_acc_df = pd.concat([overall_acc_df, pd.DataFrame([sub_row])], ignore_index=True)\n",
    "\n",
    "    sub_row = {'Participant':sub,\n",
    "               'epoch': 'equals',\n",
    "               'score': perm_results[sub]['overall_accuracy_eq']['score'],\n",
    "               'pval': perm_results[sub]['overall_accuracy_eq']['pvals']}\n",
    "\n",
    "    # Concatenate the original DataFrame and the new row DataFrame\n",
    "    overall_acc_df = pd.concat([overall_acc_df, pd.DataFrame([sub_row])], ignore_index=True)\n",
    "\n"
   ]
  },
  {
   "cell_type": "code",
   "execution_count": 20,
   "id": "a7653651",
   "metadata": {},
   "outputs": [
    {
     "data": {
      "text/html": [
       "<div>\n",
       "<style scoped>\n",
       "    .dataframe tbody tr th:only-of-type {\n",
       "        vertical-align: middle;\n",
       "    }\n",
       "\n",
       "    .dataframe tbody tr th {\n",
       "        vertical-align: top;\n",
       "    }\n",
       "\n",
       "    .dataframe thead th {\n",
       "        text-align: right;\n",
       "    }\n",
       "</style>\n",
       "<table border=\"1\" class=\"dataframe\">\n",
       "  <thead>\n",
       "    <tr style=\"text-align: right;\">\n",
       "      <th></th>\n",
       "      <th></th>\n",
       "      <th>Participant</th>\n",
       "      <th>score</th>\n",
       "      <th>pval</th>\n",
       "    </tr>\n",
       "    <tr>\n",
       "      <th>sig</th>\n",
       "      <th>epoch</th>\n",
       "      <th></th>\n",
       "      <th></th>\n",
       "      <th></th>\n",
       "    </tr>\n",
       "  </thead>\n",
       "  <tbody>\n",
       "    <tr>\n",
       "      <th rowspan=\"2\" valign=\"top\">False</th>\n",
       "      <th>equals</th>\n",
       "      <td>17</td>\n",
       "      <td>17</td>\n",
       "      <td>17</td>\n",
       "    </tr>\n",
       "    <tr>\n",
       "      <th>solution</th>\n",
       "      <td>12</td>\n",
       "      <td>12</td>\n",
       "      <td>12</td>\n",
       "    </tr>\n",
       "    <tr>\n",
       "      <th>True</th>\n",
       "      <th>solution</th>\n",
       "      <td>5</td>\n",
       "      <td>5</td>\n",
       "      <td>5</td>\n",
       "    </tr>\n",
       "  </tbody>\n",
       "</table>\n",
       "</div>"
      ],
      "text/plain": [
       "                Participant  score  pval\n",
       "sig   epoch                             \n",
       "False equals             17     17    17\n",
       "      solution           12     12    12\n",
       "True  solution            5      5     5"
      ]
     },
     "execution_count": 20,
     "metadata": {},
     "output_type": "execute_result"
    }
   ],
   "source": [
    "overall_acc_df['sig'] = overall_acc_df['pval']<0.05\n",
    "\n",
    "overall_acc_df.groupby(['sig','epoch']).count()"
   ]
  },
  {
   "cell_type": "code",
   "execution_count": 31,
   "id": "bbd0b2b9",
   "metadata": {},
   "outputs": [
    {
     "data": {
      "text/plain": [
       "dict_keys(['overall_accuracy_solution', 'train_dots_accuracy_solution', 'train_dots_generalizing_solution', 'train_digits_accuracy_solution', 'train_digits_generalizing_solution', 'overall_accuracy_eq', 'train_dots_accuracy_eq', 'train_dots_generalizing_eq', 'train_digits_accuracy_eq', 'train_digits_generalizing_eq'])"
      ]
     },
     "execution_count": 31,
     "metadata": {},
     "output_type": "execute_result"
    }
   ],
   "source": [
    "perm_results[sub].keys()"
   ]
  },
  {
   "cell_type": "code",
   "execution_count": 73,
   "id": "d1e48e78",
   "metadata": {},
   "outputs": [
    {
     "name": "stdout",
     "output_type": "stream",
     "text": [
      "Mean Accuracy Solution Epoch: 0.5496398944193063\n",
      "p-value: 0.0\n"
     ]
    }
   ],
   "source": [
    "# collect each 1000-item array into a single 2-D array\n",
    "all_scores = np.stack([d['overall_accuracy_solution']['permutation_scores'] for d in perm_results.values()])\n",
    "\n",
    "# mean across all participants and all permutations\n",
    "mean_all = all_scores.mean(axis=0)\n",
    "mean_acc = overall_acc_df_wide['score_solution'].mean()\n",
    "\n",
    "print(f'Mean Accuracy Solution Epoch: {mean_acc}')\n",
    "print(f'p-value: {((mean_acc < mean_all).sum())/mean_all.shape[0]}')\n"
   ]
  },
  {
   "cell_type": "code",
   "execution_count": 74,
   "id": "1ba0fbb7",
   "metadata": {
    "scrolled": true
   },
   "outputs": [
    {
     "name": "stdout",
     "output_type": "stream",
     "text": [
      "Mean Accuracy Equals Epoch: 0.49009049773755653\n",
      "p-value: 0.817\n"
     ]
    }
   ],
   "source": [
    "# collect each 1000-item array into a single 2-D array\n",
    "all_scores = np.stack([d['overall_accuracy_eq']['permutation_scores'] for d in perm_results.values()])\n",
    "\n",
    "# mean across all participants and all permutations\n",
    "mean_all = all_scores.mean(axis=0)\n",
    "\n",
    "# mean across all participants and all permutations\n",
    "mean_all = all_scores.mean(axis=0)\n",
    "mean_acc = overall_acc_df_wide['score_equals'].mean()\n",
    "\n",
    "print(f'Mean Accuracy Equals Epoch: {mean_acc}')\n",
    "print(f'p-value: {((mean_acc < mean_all).sum())/mean_all.shape[0]}')\n"
   ]
  },
  {
   "cell_type": "code",
   "execution_count": 7,
   "id": "cc760410",
   "metadata": {},
   "outputs": [
    {
     "name": "stdout",
     "output_type": "stream",
     "text": [
      "T-statistic: 3.7272292246781684\n",
      "P-value: 0.0018338342654817604\n"
     ]
    }
   ],
   "source": [
    "# Perform the paired t-test\n",
    "t_statistic, p_value = stats.ttest_rel(overall_acc_df_wide['score_solution'],\n",
    "                                       overall_acc_df_wide['score_equals'])\n",
    "\n",
    "print(f\"T-statistic: {t_statistic}\")\n",
    "print(f\"P-value: {p_value}\")"
   ]
  },
  {
   "cell_type": "code",
   "execution_count": 8,
   "id": "4d31aacd",
   "metadata": {},
   "outputs": [
    {
     "data": {
      "text/plain": [
       "TtestResult(statistic=np.float64(3.0886519605383755), pvalue=np.float64(0.003522670857402142), df=np.int64(16))"
      ]
     },
     "execution_count": 8,
     "metadata": {},
     "output_type": "execute_result"
    }
   ],
   "source": [
    "stats.ttest_1samp(overall_acc_df[(overall_acc_df['epoch']=='solution')]['score'],0.5,alternative='greater')"
   ]
  },
  {
   "cell_type": "code",
   "execution_count": 9,
   "id": "fa056bf3",
   "metadata": {},
   "outputs": [
    {
     "data": {
      "text/plain": [
       "TtestResult(statistic=np.float64(-0.7996510292378555), pvalue=np.float64(0.7821875865804921), df=np.int64(16))"
      ]
     },
     "execution_count": 9,
     "metadata": {},
     "output_type": "execute_result"
    }
   ],
   "source": [
    "stats.ttest_1samp(overall_acc_df[(overall_acc_df['epoch']=='equals')]['score'],0.5,alternative='greater')"
   ]
  },
  {
   "cell_type": "code",
   "execution_count": 11,
   "id": "53d84ceb",
   "metadata": {},
   "outputs": [
    {
     "data": {
      "text/plain": [
       "<Axes: xlabel='epoch', ylabel='score'>"
      ]
     },
     "execution_count": 11,
     "metadata": {},
     "output_type": "execute_result"
    },
    {
     "data": {
      "image/png": "[encoded data removed]",
      "text/plain": [
       "<Figure size 640x480 with 1 Axes>"
      ]
     },
     "metadata": {},
     "output_type": "display_data"
    }
   ],
   "source": [
    "sns.barplot(overall_acc_df, x='epoch',y='score', hue='epoch')"
   ]
  },
  {
   "cell_type": "markdown",
   "id": "2d72b719",
   "metadata": {},
   "source": [
    "# Within-Format Accuracy"
   ]
  },
  {
   "cell_type": "code",
   "execution_count": 35,
   "id": "fc836b56",
   "metadata": {},
   "outputs": [],
   "source": [
    "within_df = pd.DataFrame()\n",
    "within_df_wide = pd.DataFrame()\n",
    "\n",
    "forms = ['dots','digits']\n",
    "epochs = ['solution','eq']\n",
    "\n",
    "for sub in perm_results.keys():\n",
    "    \n",
    "    sub_row = {'Participant':sub,\n",
    "               'score_solution_dots': perm_results[sub]['train_dots_accuracy_solution']['score'],\n",
    "               'score_equals_dots': perm_results[sub]['train_dots_accuracy_eq']['score'],\n",
    "               'score_solution_digits': perm_results[sub]['train_digits_accuracy_solution']['score'],\n",
    "               'score_equals_digits': perm_results[sub]['train_digits_accuracy_eq']['score'],}\n",
    "\n",
    "    # Concatenate the original DataFrame and the new row DataFrame\n",
    "    within_df_wide = pd.concat([within_df_wide, pd.DataFrame([sub_row])], ignore_index=True)\n",
    "\n",
    "    for form in forms:\n",
    "        for epoch in epochs:\n",
    "            \n",
    "            sub_row = {'Participant':sub,\n",
    "                       'epoch': epoch,\n",
    "                       'type': form,\n",
    "                       'score': perm_results[sub][f'train_{form}_accuracy_{epoch}']['score'],\n",
    "                       'pval': perm_results[sub][f'train_{form}_accuracy_{epoch}']['pvals']}\n",
    "\n",
    "            # Concatenate the original DataFrame and the new row DataFrame\n",
    "            within_df = pd.concat([within_df, pd.DataFrame([sub_row])], ignore_index=True)\n",
    "\n"
   ]
  },
  {
   "cell_type": "code",
   "execution_count": 25,
   "id": "85cd900d",
   "metadata": {},
   "outputs": [
    {
     "data": {
      "text/html": [
       "<div>\n",
       "<style scoped>\n",
       "    .dataframe tbody tr th:only-of-type {\n",
       "        vertical-align: middle;\n",
       "    }\n",
       "\n",
       "    .dataframe tbody tr th {\n",
       "        vertical-align: top;\n",
       "    }\n",
       "\n",
       "    .dataframe thead th {\n",
       "        text-align: right;\n",
       "    }\n",
       "</style>\n",
       "<table border=\"1\" class=\"dataframe\">\n",
       "  <thead>\n",
       "    <tr style=\"text-align: right;\">\n",
       "      <th></th>\n",
       "      <th></th>\n",
       "      <th>score</th>\n",
       "      <th>pval</th>\n",
       "    </tr>\n",
       "    <tr>\n",
       "      <th>epoch</th>\n",
       "      <th>type</th>\n",
       "      <th></th>\n",
       "      <th></th>\n",
       "    </tr>\n",
       "  </thead>\n",
       "  <tbody>\n",
       "    <tr>\n",
       "      <th rowspan=\"2\" valign=\"top\">eq</th>\n",
       "      <th>digits</th>\n",
       "      <td>0.498816</td>\n",
       "      <td>0.534701</td>\n",
       "    </tr>\n",
       "    <tr>\n",
       "      <th>dots</th>\n",
       "      <td>0.503522</td>\n",
       "      <td>0.521890</td>\n",
       "    </tr>\n",
       "    <tr>\n",
       "      <th rowspan=\"2\" valign=\"top\">solution</th>\n",
       "      <th>digits</th>\n",
       "      <td>0.540008</td>\n",
       "      <td>0.399777</td>\n",
       "    </tr>\n",
       "    <tr>\n",
       "      <th>dots</th>\n",
       "      <td>0.517089</td>\n",
       "      <td>0.468649</td>\n",
       "    </tr>\n",
       "  </tbody>\n",
       "</table>\n",
       "</div>"
      ],
      "text/plain": [
       "                    score      pval\n",
       "epoch    type                      \n",
       "eq       digits  0.498816  0.534701\n",
       "         dots    0.503522  0.521890\n",
       "solution digits  0.540008  0.399777\n",
       "         dots    0.517089  0.468649"
      ]
     },
     "execution_count": 25,
     "metadata": {},
     "output_type": "execute_result"
    }
   ],
   "source": [
    "within_df.groupby(['epoch','type'])[['score','pval']].mean()"
   ]
  },
  {
   "cell_type": "code",
   "execution_count": 26,
   "id": "d61eef9d",
   "metadata": {},
   "outputs": [
    {
     "data": {
      "text/html": [
       "<div>\n",
       "<style scoped>\n",
       "    .dataframe tbody tr th:only-of-type {\n",
       "        vertical-align: middle;\n",
       "    }\n",
       "\n",
       "    .dataframe tbody tr th {\n",
       "        vertical-align: top;\n",
       "    }\n",
       "\n",
       "    .dataframe thead th {\n",
       "        text-align: right;\n",
       "    }\n",
       "</style>\n",
       "<table border=\"1\" class=\"dataframe\">\n",
       "  <thead>\n",
       "    <tr style=\"text-align: right;\">\n",
       "      <th></th>\n",
       "      <th></th>\n",
       "      <th>Participant</th>\n",
       "      <th>type</th>\n",
       "      <th>score</th>\n",
       "      <th>pval</th>\n",
       "    </tr>\n",
       "    <tr>\n",
       "      <th>sig</th>\n",
       "      <th>epoch</th>\n",
       "      <th></th>\n",
       "      <th></th>\n",
       "      <th></th>\n",
       "      <th></th>\n",
       "    </tr>\n",
       "  </thead>\n",
       "  <tbody>\n",
       "    <tr>\n",
       "      <th rowspan=\"2\" valign=\"top\">False</th>\n",
       "      <th>eq</th>\n",
       "      <td>32</td>\n",
       "      <td>32</td>\n",
       "      <td>32</td>\n",
       "      <td>32</td>\n",
       "    </tr>\n",
       "    <tr>\n",
       "      <th>solution</th>\n",
       "      <td>31</td>\n",
       "      <td>31</td>\n",
       "      <td>31</td>\n",
       "      <td>31</td>\n",
       "    </tr>\n",
       "    <tr>\n",
       "      <th rowspan=\"2\" valign=\"top\">True</th>\n",
       "      <th>eq</th>\n",
       "      <td>2</td>\n",
       "      <td>2</td>\n",
       "      <td>2</td>\n",
       "      <td>2</td>\n",
       "    </tr>\n",
       "    <tr>\n",
       "      <th>solution</th>\n",
       "      <td>3</td>\n",
       "      <td>3</td>\n",
       "      <td>3</td>\n",
       "      <td>3</td>\n",
       "    </tr>\n",
       "  </tbody>\n",
       "</table>\n",
       "</div>"
      ],
      "text/plain": [
       "                Participant  type  score  pval\n",
       "sig   epoch                                   \n",
       "False eq                 32    32     32    32\n",
       "      solution           31    31     31    31\n",
       "True  eq                  2     2      2     2\n",
       "      solution            3     3      3     3"
      ]
     },
     "execution_count": 26,
     "metadata": {},
     "output_type": "execute_result"
    }
   ],
   "source": [
    "within_df['sig'] = within_df['pval']<0.05\n",
    "\n",
    "within_df.groupby(['sig','epoch']).count()"
   ]
  },
  {
   "cell_type": "code",
   "execution_count": 31,
   "id": "63bd9f43",
   "metadata": {},
   "outputs": [
    {
     "data": {
      "text/plain": [
       "dict_keys(['overall_accuracy_solution', 'train_dots_accuracy_solution', 'train_dots_generalizing_solution', 'train_digits_accuracy_solution', 'train_digits_generalizing_solution', 'overall_accuracy_eq', 'train_dots_accuracy_eq', 'train_dots_generalizing_eq', 'train_digits_accuracy_eq', 'train_digits_generalizing_eq'])"
      ]
     },
     "execution_count": 31,
     "metadata": {},
     "output_type": "execute_result"
    }
   ],
   "source": [
    "perm_results[sub].keys()"
   ]
  },
  {
   "cell_type": "code",
   "execution_count": 76,
   "id": "3ebea214",
   "metadata": {},
   "outputs": [
    {
     "name": "stdout",
     "output_type": "stream",
     "text": [
      "Mean Accuracy Solution Epoch: 0.5170889894419306\n",
      "p-value: 0.167\n"
     ]
    },
    {
     "data": {
      "text/plain": [
       "np.float64(0.167)"
      ]
     },
     "execution_count": 76,
     "metadata": {},
     "output_type": "execute_result"
    }
   ],
   "source": [
    "# collect each 1000-item array into a single 2-D array\n",
    "all_scores = np.stack([d['train_dots_accuracy_solution']['permutation_scores'] for d in perm_results.values()])\n",
    "\n",
    "# mean across all participants and all permutations\n",
    "mean_all = all_scores.mean(axis=0)\n",
    "mean_acc = within_df[(within_df['epoch']=='solution')&(within_df['type']=='dots')]['score'].mean()\n",
    "\n",
    "\n",
    "print(f'Mean Accuracy Solution Epoch: {mean_acc}')\n",
    "print(f'p-value: {((mean_acc < mean_all).sum())/mean_all.shape[0]}')\n",
    "\n",
    "\n"
   ]
  },
  {
   "cell_type": "code",
   "execution_count": 79,
   "id": "d31c89be",
   "metadata": {},
   "outputs": [
    {
     "name": "stdout",
     "output_type": "stream",
     "text": [
      "Mean Accuracy Equals Epoch: 0.5035218702865761\n",
      "p-value: 0.412\n"
     ]
    }
   ],
   "source": [
    "# collect each 1000-item array into a single 2-D array\n",
    "all_scores = np.stack([d['train_dots_accuracy_eq']['permutation_scores'] for d in perm_results.values()])\n",
    "\n",
    "# mean across all participants and all permutations\n",
    "mean_all = all_scores.mean(axis=0)\n",
    "\n",
    "\n",
    "mean_acc = within_df[(within_df['epoch']=='eq')&(within_df['type']=='dots')]['score'].mean()\n",
    "\n",
    "\n",
    "print(f'Mean Accuracy Equals Epoch: {mean_acc}')\n",
    "print(f'p-value: {((mean_acc < mean_all).sum())/mean_all.shape[0]}')\n",
    "\n"
   ]
  },
  {
   "cell_type": "code",
   "execution_count": 82,
   "id": "456b293a",
   "metadata": {},
   "outputs": [
    {
     "name": "stdout",
     "output_type": "stream",
     "text": [
      "Mean Accuracy Solution Epoch: 0.5400075414781297, p = 0.007\n"
     ]
    }
   ],
   "source": [
    "# collect each 1000-item array into a single 2-D array\n",
    "all_scores = np.stack([d['train_digits_accuracy_solution']['permutation_scores'] for d in perm_results.values()])\n",
    "\n",
    "# mean across all participants and all permutations\n",
    "mean_all = all_scores.mean(axis=0)\n",
    "\n",
    "mean_acc = within_df[(within_df['epoch']=='solution')&(within_df['type']=='digits')]['score'].mean()\n",
    "pval = ((mean_acc < mean_all).sum())/mean_all.shape[0]\n",
    "\n",
    "print(f'Mean Accuracy Solution Epoch: {mean_acc}, p = {pval}')\n",
    "\n",
    "\n"
   ]
  },
  {
   "cell_type": "code",
   "execution_count": 80,
   "id": "65ce5a2f",
   "metadata": {},
   "outputs": [
    {
     "name": "stdout",
     "output_type": "stream",
     "text": [
      "Mean Accuracy Equals Epoch: 0.49881598793363496\n",
      "p-value: 0.532\n"
     ]
    }
   ],
   "source": [
    "# collect each 1000-item array into a single 2-D array\n",
    "all_scores = np.stack([d['train_digits_accuracy_eq']['permutation_scores'] for d in perm_results.values()])\n",
    "\n",
    "# mean across all participants and all permutations\n",
    "mean_all = all_scores.mean(axis=0)\n",
    "\n",
    "mean_acc = within_df[(within_df['epoch']=='eq')&(within_df['type']=='digits')]['score'].mean()\n",
    "\n",
    "\n",
    "print(f'Mean Accuracy Equals Epoch: {mean_acc}')\n",
    "print(f'p-value: {((mean_acc < mean_all).sum())/mean_all.shape[0]}')\n",
    "\n"
   ]
  },
  {
   "cell_type": "code",
   "execution_count": 30,
   "id": "0864b672",
   "metadata": {},
   "outputs": [
    {
     "data": {
      "text/plain": [
       "TtestResult(statistic=np.float64(2.356388939365372), pvalue=np.float64(0.012271486331579115), df=np.int64(33))"
      ]
     },
     "execution_count": 30,
     "metadata": {},
     "output_type": "execute_result"
    }
   ],
   "source": [
    "stats.ttest_1samp(within_df[(within_df['epoch']=='solution')]['score'],0.5,alternative='greater')"
   ]
  },
  {
   "cell_type": "code",
   "execution_count": 31,
   "id": "95f86763",
   "metadata": {},
   "outputs": [
    {
     "data": {
      "text/plain": [
       "TtestResult(statistic=np.float64(0.08956707163707033), pvalue=np.float64(0.4645863296003422), df=np.int64(33))"
      ]
     },
     "execution_count": 31,
     "metadata": {},
     "output_type": "execute_result"
    }
   ],
   "source": [
    "stats.ttest_1samp(within_df[(within_df['epoch']=='eq')]['score'],0.5,alternative='greater')"
   ]
  },
  {
   "cell_type": "code",
   "execution_count": 27,
   "id": "6864b954",
   "metadata": {},
   "outputs": [
    {
     "data": {
      "text/plain": [
       "<Axes: xlabel='type', ylabel='score'>"
      ]
     },
     "execution_count": 27,
     "metadata": {},
     "output_type": "execute_result"
    },
    {
     "data": {
      "image/png": "[encoded data removed]",
      "text/plain": [
       "<Figure size 640x480 with 1 Axes>"
      ]
     },
     "metadata": {},
     "output_type": "display_data"
    }
   ],
   "source": [
    "sns.barplot(within_df, x='type',y='score', hue='epoch')"
   ]
  },
  {
   "cell_type": "markdown",
   "id": "57dc414b",
   "metadata": {},
   "source": [
    "# Cross-Format Generalzing"
   ]
  },
  {
   "cell_type": "code",
   "execution_count": 51,
   "id": "9b9e0188",
   "metadata": {},
   "outputs": [
    {
     "data": {
      "text/plain": [
       "dict_keys(['overall_accuracy_solution', 'train_dots_accuracy_solution', 'train_dots_generalizing_solution', 'train_digits_accuracy_solution', 'train_digits_generalizing_solution', 'overall_accuracy_eq', 'train_dots_accuracy_eq', 'train_dots_generalizing_eq', 'train_digits_accuracy_eq', 'train_digits_generalizing_eq'])"
      ]
     },
     "execution_count": 51,
     "metadata": {},
     "output_type": "execute_result"
    }
   ],
   "source": [
    "perm_results[sub].keys()"
   ]
  },
  {
   "cell_type": "code",
   "execution_count": 52,
   "id": "fad4b044",
   "metadata": {},
   "outputs": [],
   "source": [
    "gen_df = pd.DataFrame()\n",
    "gen_df_wide = pd.DataFrame()\n",
    "\n",
    "forms = ['dots','digits']\n",
    "epochs = ['solution','eq']\n",
    "\n",
    "for sub in perm_results.keys():\n",
    "    \n",
    "    sub_row = {'Participant':sub,\n",
    "               'score_solution_dots': perm_results[sub]['train_dots_generalizing_solution']['score_gen'],\n",
    "               'score_equals_dots': perm_results[sub]['train_dots_generalizing_eq']['score_gen'],\n",
    "               'score_solution_digits': perm_results[sub]['train_digits_generalizing_solution']['score_gen'],\n",
    "               'score_equals_digits': perm_results[sub]['train_digits_generalizing_eq']['score_gen'],}\n",
    "\n",
    "    # Concatenate the original DataFrame and the new row DataFrame\n",
    "    gen_df_wide = pd.concat([gen_df_wide, pd.DataFrame([sub_row])], ignore_index=True)\n",
    "\n",
    "    for form in forms:\n",
    "        for epoch in epochs:\n",
    "            \n",
    "            sub_row = {'Participant':sub,\n",
    "                       'epoch': epoch,\n",
    "                       'type': form,\n",
    "                       'score': perm_results[sub][f'train_{form}_generalizing_{epoch}']['score_gen'],\n",
    "                       'pval': perm_results[sub][f'train_{form}_generalizing_{epoch}']['score_gen']}\n",
    "\n",
    "            # Concatenate the original DataFrame and the new row DataFrame\n",
    "            gen_df = pd.concat([gen_df, pd.DataFrame([sub_row])], ignore_index=True)\n",
    "\n"
   ]
  },
  {
   "cell_type": "code",
   "execution_count": 36,
   "id": "3937d156",
   "metadata": {},
   "outputs": [
    {
     "data": {
      "text/html": [
       "<div>\n",
       "<style scoped>\n",
       "    .dataframe tbody tr th:only-of-type {\n",
       "        vertical-align: middle;\n",
       "    }\n",
       "\n",
       "    .dataframe tbody tr th {\n",
       "        vertical-align: top;\n",
       "    }\n",
       "\n",
       "    .dataframe thead th {\n",
       "        text-align: right;\n",
       "    }\n",
       "</style>\n",
       "<table border=\"1\" class=\"dataframe\">\n",
       "  <thead>\n",
       "    <tr style=\"text-align: right;\">\n",
       "      <th></th>\n",
       "      <th></th>\n",
       "      <th>score</th>\n",
       "      <th>pval</th>\n",
       "    </tr>\n",
       "    <tr>\n",
       "      <th>epoch</th>\n",
       "      <th>type</th>\n",
       "      <th></th>\n",
       "      <th></th>\n",
       "    </tr>\n",
       "  </thead>\n",
       "  <tbody>\n",
       "    <tr>\n",
       "      <th rowspan=\"2\" valign=\"top\">eq</th>\n",
       "      <th>digits</th>\n",
       "      <td>0.495603</td>\n",
       "      <td>0.495603</td>\n",
       "    </tr>\n",
       "    <tr>\n",
       "      <th>dots</th>\n",
       "      <td>0.483578</td>\n",
       "      <td>0.483578</td>\n",
       "    </tr>\n",
       "    <tr>\n",
       "      <th rowspan=\"2\" valign=\"top\">solution</th>\n",
       "      <th>digits</th>\n",
       "      <td>0.555524</td>\n",
       "      <td>0.555524</td>\n",
       "    </tr>\n",
       "    <tr>\n",
       "      <th>dots</th>\n",
       "      <td>0.542564</td>\n",
       "      <td>0.542564</td>\n",
       "    </tr>\n",
       "  </tbody>\n",
       "</table>\n",
       "</div>"
      ],
      "text/plain": [
       "                    score      pval\n",
       "epoch    type                      \n",
       "eq       digits  0.495603  0.495603\n",
       "         dots    0.483578  0.483578\n",
       "solution digits  0.555524  0.555524\n",
       "         dots    0.542564  0.542564"
      ]
     },
     "execution_count": 36,
     "metadata": {},
     "output_type": "execute_result"
    }
   ],
   "source": [
    "gen_df.groupby(['epoch','type'])[['score','pval']].mean()"
   ]
  },
  {
   "cell_type": "code",
   "execution_count": 37,
   "id": "d7bfd0d8",
   "metadata": {},
   "outputs": [
    {
     "data": {
      "text/html": [
       "<div>\n",
       "<style scoped>\n",
       "    .dataframe tbody tr th:only-of-type {\n",
       "        vertical-align: middle;\n",
       "    }\n",
       "\n",
       "    .dataframe tbody tr th {\n",
       "        vertical-align: top;\n",
       "    }\n",
       "\n",
       "    .dataframe thead th {\n",
       "        text-align: right;\n",
       "    }\n",
       "</style>\n",
       "<table border=\"1\" class=\"dataframe\">\n",
       "  <thead>\n",
       "    <tr style=\"text-align: right;\">\n",
       "      <th></th>\n",
       "      <th></th>\n",
       "      <th>Participant</th>\n",
       "      <th>type</th>\n",
       "      <th>score</th>\n",
       "      <th>pval</th>\n",
       "    </tr>\n",
       "    <tr>\n",
       "      <th>sig</th>\n",
       "      <th>epoch</th>\n",
       "      <th></th>\n",
       "      <th></th>\n",
       "      <th></th>\n",
       "      <th></th>\n",
       "    </tr>\n",
       "  </thead>\n",
       "  <tbody>\n",
       "    <tr>\n",
       "      <th rowspan=\"2\" valign=\"top\">False</th>\n",
       "      <th>eq</th>\n",
       "      <td>34</td>\n",
       "      <td>34</td>\n",
       "      <td>34</td>\n",
       "      <td>34</td>\n",
       "    </tr>\n",
       "    <tr>\n",
       "      <th>solution</th>\n",
       "      <td>34</td>\n",
       "      <td>34</td>\n",
       "      <td>34</td>\n",
       "      <td>34</td>\n",
       "    </tr>\n",
       "  </tbody>\n",
       "</table>\n",
       "</div>"
      ],
      "text/plain": [
       "                Participant  type  score  pval\n",
       "sig   epoch                                   \n",
       "False eq                 34    34     34    34\n",
       "      solution           34    34     34    34"
      ]
     },
     "execution_count": 37,
     "metadata": {},
     "output_type": "execute_result"
    }
   ],
   "source": [
    "gen_df['sig'] = gen_df['pval']<0.05\n",
    "\n",
    "gen_df.groupby(['sig','epoch']).count()"
   ]
  },
  {
   "cell_type": "code",
   "execution_count": 87,
   "id": "db05c317",
   "metadata": {},
   "outputs": [
    {
     "name": "stdout",
     "output_type": "stream",
     "text": [
      "Dots Generalizing to Digits Solution Epoch: 0.5171, p = 0.11\n",
      "Dots Generalizing to Digits Equals Epoch: 0.5035, p = 0.403\n"
     ]
    }
   ],
   "source": [
    "# collect each 1000-item array into a single 2-D array\n",
    "all_scores = np.stack([d['train_dots_generalizing_solution']['permutation_scores_gen'] for d in perm_results.values()])\n",
    "\n",
    "# mean across all participants and all permutations\n",
    "mean_all = all_scores.mean(axis=0)\n",
    "mean_acc = within_df[(gen_df['epoch']=='solution')&(within_df['type']=='dots')]['score'].mean()\n",
    "\n",
    "sol_p_val = (( mean_acc< mean_all).sum())/mean_all.shape[0]\n",
    "\n",
    "print(f'Dots Generalizing to Digits Solution Epoch: {mean_acc:.4f}, p = {sol_p_val}')\n",
    "\n",
    "# collect each 1000-item array into a single 2-D array\n",
    "all_scores = np.stack([d['train_dots_generalizing_eq']['permutation_scores_gen'] for d in perm_results.values()])\n",
    "\n",
    "# mean across all participants and all permutations\n",
    "mean_all = all_scores.mean(axis=0)\n",
    "mean_acc = within_df[(gen_df['epoch']=='eq')&(within_df['type']=='dots')]['score'].mean()\n",
    "\n",
    "eq_p_val = (( mean_acc< mean_all).sum())/mean_all.shape[0]\n",
    "\n",
    "print(f'Dots Generalizing to Digits Equals Epoch: {mean_acc:.4f}, p = {eq_p_val}')\n",
    "\n"
   ]
  },
  {
   "cell_type": "code",
   "execution_count": 89,
   "id": "9e5270e4",
   "metadata": {},
   "outputs": [
    {
     "name": "stdout",
     "output_type": "stream",
     "text": [
      "Digits Generalizing to Dots Solution Epoch: 0.5400, p = 0.004\n",
      "Digits Generalizing to Dots Equals Epoch: 0.4988, p = 0.536\n"
     ]
    }
   ],
   "source": [
    "# collect each 1000-item array into a single 2-D array\n",
    "all_scores = np.stack([d['train_digits_generalizing_solution']['permutation_scores_gen'] for d in perm_results.values()])\n",
    "\n",
    "# mean across all participants and all permutations\n",
    "mean_all = all_scores.mean(axis=0)\n",
    "mean_acc = within_df[(gen_df['epoch']=='solution')&(within_df['type']=='digits')]['score'].mean()\n",
    "\n",
    "sol_p_val = (( mean_acc< mean_all).sum())/mean_all.shape[0]\n",
    "\n",
    "print(f'Digits Generalizing to Dots Solution Epoch: {mean_acc:.4f}, p = {sol_p_val}')\n",
    "\n",
    "# collect each 1000-item array into a single 2-D array\n",
    "all_scores = np.stack([d['train_digits_generalizing_eq']['permutation_scores_gen'] for d in perm_results.values()])\n",
    "\n",
    "# mean across all participants and all permutations\n",
    "mean_all = all_scores.mean(axis=0)\n",
    "mean_acc = within_df[(gen_df['epoch']=='eq')&(within_df['type']=='digits')]['score'].mean()\n",
    "\n",
    "eq_p_val = (( mean_acc< mean_all).sum())/mean_all.shape[0]\n",
    "\n",
    "print(f'Digits Generalizing to Dots Equals Epoch: {mean_acc:.4f}, p = {eq_p_val}')\n",
    "\n"
   ]
  },
  {
   "cell_type": "code",
   "execution_count": 60,
   "id": "8e2e66fc",
   "metadata": {},
   "outputs": [
    {
     "data": {
      "text/plain": [
       "TtestResult(statistic=np.float64(4.115660138681721), pvalue=np.float64(0.00012100529236855092), df=np.int64(33))"
      ]
     },
     "execution_count": 60,
     "metadata": {},
     "output_type": "execute_result"
    }
   ],
   "source": [
    "stats.ttest_1samp(gen_df[(gen_df['epoch']=='solution')]['score'],0.5,alternative='greater')"
   ]
  },
  {
   "cell_type": "code",
   "execution_count": 61,
   "id": "ec01e5ba",
   "metadata": {},
   "outputs": [
    {
     "data": {
      "text/plain": [
       "TtestResult(statistic=np.float64(-1.067844303854178), pvalue=np.float64(0.8533297480148063), df=np.int64(33))"
      ]
     },
     "execution_count": 61,
     "metadata": {},
     "output_type": "execute_result"
    }
   ],
   "source": [
    "stats.ttest_1samp(gen_df[(gen_df['epoch']=='eq')]['score'],0.5,alternative='greater')"
   ]
  },
  {
   "cell_type": "code",
   "execution_count": 62,
   "id": "483c9da9",
   "metadata": {},
   "outputs": [
    {
     "data": {
      "text/plain": [
       "<Axes: xlabel='type', ylabel='score'>"
      ]
     },
     "execution_count": 62,
     "metadata": {},
     "output_type": "execute_result"
    },
    {
     "data": {
      "image/png": "[encoded data removed]",
      "text/plain": [
       "<Figure size 640x480 with 1 Axes>"
      ]
     },
     "metadata": {},
     "output_type": "display_data"
    }
   ],
   "source": [
    "sns.barplot(gen_df, x='type',y='score', hue='epoch')"
   ]
  },
  {
   "cell_type": "code",
   "execution_count": null,
   "id": "ee5b333f",
   "metadata": {},
   "outputs": [],
   "source": []
  }
 ],
 "metadata": {
  "kernelspec": {
   "display_name": "Python [conda env:mne]",
   "language": "python",
   "name": "conda-env-mne-py"
  },
  "language_info": {
   "codemirror_mode": {
    "name": "ipython",
    "version": 3
   },
   "file_extension": ".py",
   "mimetype": "text/x-python",
   "name": "python",
   "nbconvert_exporter": "python",
   "pygments_lexer": "ipython3",
   "version": "3.12.9"
  }
 },
 "nbformat": 4,
 "nbformat_minor": 5
}
