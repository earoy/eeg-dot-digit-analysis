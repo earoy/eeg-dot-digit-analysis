{
 "cells": [
  {
   "cell_type": "code",
   "execution_count": 5,
   "id": "990bb5ef",
   "metadata": {},
   "outputs": [],
   "source": [
    "def insert_subject_blocks(template_path, input_path, output_path, subjectID, blocks):\n",
    "    # Read the template .m file\n",
    "    with open(template_path, 'r') as file:\n",
    "        lines = file.readlines()\n",
    "\n",
    "    new_lines = []\n",
    "    inserted_subject = False\n",
    "    inserted_blocks = False\n",
    "    inserted_indir = False\n",
    "    inserted_self_dir = False\n",
    "    inserted_fig_dir = False\n",
    "\n",
    "    for line in lines:\n",
    "        new_lines.append(line)\n",
    "\n",
    "        # After finding the right place, insert the new subject ID\n",
    "        if not inserted_subject and 'INFO.file_labels.Subjects' in line:\n",
    "            new_subject_line = f\"INFO.file_labels.Subjects = {{'{subjectID}'}};\\n\"\n",
    "            new_lines[-1] = '%' + line  # Comment out the original line\n",
    "            new_lines.append(new_subject_line)\n",
    "            inserted_subject = True\n",
    "\n",
    "        # After finding the right place, insert the new blocks\n",
    "        if not inserted_blocks and 'tmp.Block{1}' in line:\n",
    "            formatted_blocks = ','.join(f'\"{b}\"' for b in blocks)\n",
    "            new_block_line = f'tmp.Block{{1}} = {{{formatted_blocks}}};\\n'\n",
    "            new_lines[-1] = '%' + line  # Comment out the original line\n",
    "            new_lines.append(new_block_line)\n",
    "            inserted_blocks = True\n",
    "\n",
    "        # After finding the right place, insert the new input directory\n",
    "        if not inserted_indir and 'INFO.dirs.raw ' in line:\n",
    "            new_subject_line = f\"INFO.dirs.raw  = '{input_path}';\\n\"\n",
    "            new_lines[-1] = '%' + line  # Comment out the original line\n",
    "            new_lines.append(new_subject_line)\n",
    "            inserted_indir = True\n",
    "\n",
    "        # After finding the right place, insert the new self directory\n",
    "        if not inserted_self_dir and 'INFO.configFn ' in line:\n",
    "\n",
    "            file_name = f'/home/users/ethanroy/eeg_groupitizing/code/bash/preproc/configs/se_cleaning_config_ENI_{subjectID}.m'\n",
    "            new_subject_line = f\"INFO.configFn  = '{file_name}';\\n\"\n",
    "            new_lines[-1] = '%' + line  # Comment out the original line\n",
    "            new_lines.append(new_subject_line)\n",
    "            inserted_self_dir = True\n",
    "\n",
    "\n",
    "    # Save the new version\n",
    "    with open(output_path, 'w') as file:\n",
    "        file.writelines(new_lines)\n",
    "\n",
    "    print(f\"Saved new config to {output_path}\")"
   ]
  },
  {
   "cell_type": "code",
   "execution_count": null,
   "id": "a6b67265",
   "metadata": {},
   "outputs": [],
   "source": [
    "# Because we have IDs ENI_200 through ENI_223\n",
    "subs = [id for id in range(200,224)]\n"
   ]
  },
  {
   "cell_type": "code",
   "execution_count": null,
   "id": "526779a2",
   "metadata": {},
   "outputs": [
    {
     "name": "stdout",
     "output_type": "stream",
     "text": [
      "Saved new config to /Users/ethanroy/Documents/Stanford/EdNeuro/eeg_groupitizing/code/analysis/matlab/preprocessing/configs/se_cleaning_config_ENI_200.m\n",
      "Saved new config to /Users/ethanroy/Documents/Stanford/EdNeuro/eeg_groupitizing/code/analysis/matlab/preprocessing/configs/se_cleaning_config_ENI_201.m\n",
      "Saved new config to /Users/ethanroy/Documents/Stanford/EdNeuro/eeg_groupitizing/code/analysis/matlab/preprocessing/configs/se_cleaning_config_ENI_202.m\n",
      "Saved new config to /Users/ethanroy/Documents/Stanford/EdNeuro/eeg_groupitizing/code/analysis/matlab/preprocessing/configs/se_cleaning_config_ENI_203.m\n",
      "Saved new config to /Users/ethanroy/Documents/Stanford/EdNeuro/eeg_groupitizing/code/analysis/matlab/preprocessing/configs/se_cleaning_config_ENI_204.m\n",
      "Saved new config to /Users/ethanroy/Documents/Stanford/EdNeuro/eeg_groupitizing/code/analysis/matlab/preprocessing/configs/se_cleaning_config_ENI_205.m\n",
      "Saved new config to /Users/ethanroy/Documents/Stanford/EdNeuro/eeg_groupitizing/code/analysis/matlab/preprocessing/configs/se_cleaning_config_ENI_206.m\n",
      "Saved new config to /Users/ethanroy/Documents/Stanford/EdNeuro/eeg_groupitizing/code/analysis/matlab/preprocessing/configs/se_cleaning_config_ENI_207.m\n",
      "Saved new config to /Users/ethanroy/Documents/Stanford/EdNeuro/eeg_groupitizing/code/analysis/matlab/preprocessing/configs/se_cleaning_config_ENI_208.m\n",
      "Saved new config to /Users/ethanroy/Documents/Stanford/EdNeuro/eeg_groupitizing/code/analysis/matlab/preprocessing/configs/se_cleaning_config_ENI_209.m\n",
      "Saved new config to /Users/ethanroy/Documents/Stanford/EdNeuro/eeg_groupitizing/code/analysis/matlab/preprocessing/configs/se_cleaning_config_ENI_210.m\n",
      "Saved new config to /Users/ethanroy/Documents/Stanford/EdNeuro/eeg_groupitizing/code/analysis/matlab/preprocessing/configs/se_cleaning_config_ENI_211.m\n",
      "Saved new config to /Users/ethanroy/Documents/Stanford/EdNeuro/eeg_groupitizing/code/analysis/matlab/preprocessing/configs/se_cleaning_config_ENI_212.m\n",
      "Saved new config to /Users/ethanroy/Documents/Stanford/EdNeuro/eeg_groupitizing/code/analysis/matlab/preprocessing/configs/se_cleaning_config_ENI_213.m\n",
      "Saved new config to /Users/ethanroy/Documents/Stanford/EdNeuro/eeg_groupitizing/code/analysis/matlab/preprocessing/configs/se_cleaning_config_ENI_214.m\n",
      "Saved new config to /Users/ethanroy/Documents/Stanford/EdNeuro/eeg_groupitizing/code/analysis/matlab/preprocessing/configs/se_cleaning_config_ENI_215.m\n",
      "Saved new config to /Users/ethanroy/Documents/Stanford/EdNeuro/eeg_groupitizing/code/analysis/matlab/preprocessing/configs/se_cleaning_config_ENI_216.m\n",
      "Saved new config to /Users/ethanroy/Documents/Stanford/EdNeuro/eeg_groupitizing/code/analysis/matlab/preprocessing/configs/se_cleaning_config_ENI_217.m\n",
      "Saved new config to /Users/ethanroy/Documents/Stanford/EdNeuro/eeg_groupitizing/code/analysis/matlab/preprocessing/configs/se_cleaning_config_ENI_218.m\n",
      "Saved new config to /Users/ethanroy/Documents/Stanford/EdNeuro/eeg_groupitizing/code/analysis/matlab/preprocessing/configs/se_cleaning_config_ENI_219.m\n",
      "Saved new config to /Users/ethanroy/Documents/Stanford/EdNeuro/eeg_groupitizing/code/analysis/matlab/preprocessing/configs/se_cleaning_config_ENI_220.m\n",
      "Saved new config to /Users/ethanroy/Documents/Stanford/EdNeuro/eeg_groupitizing/code/analysis/matlab/preprocessing/configs/se_cleaning_config_ENI_221.m\n",
      "Saved new config to /Users/ethanroy/Documents/Stanford/EdNeuro/eeg_groupitizing/code/analysis/matlab/preprocessing/configs/se_cleaning_config_ENI_222.m\n",
      "Saved new config to /Users/ethanroy/Documents/Stanford/EdNeuro/eeg_groupitizing/code/analysis/matlab/preprocessing/configs/se_cleaning_config_ENI_223.m\n"
     ]
    }
   ],
   "source": [
    "# path to template cleaning file\n",
    "template = '/Users/ethanroy/Documents/Stanford/EdNeuro/eeg_groupitizing/code/analysis/matlab/preprocessing/se_cleaning_config_template_sherlock.m'\n",
    "\n",
    "prefix = 'ENI'\n",
    "blocks = ['Block_1','Block_2','Block_3','Block_4','Block1','Block2','Block3','Block4']\n",
    "\n",
    "for sub in subs:\n",
    "\n",
    "    output = f'/Users/ethanroy/Documents/Stanford/EdNeuro/eeg_groupitizing/code/analysis/matlab/preprocessing/configs/se_cleaning_config_{prefix}_{sub}.m'\n",
    "\n",
    "    # for pilot data\n",
    "    if sub=='032' or sub=='195':\n",
    "        input = f'/scratch/users/ethanroy/eeg_groupitizing_data/raw_data/{prefix}_{sub}/Pilot Session 2/NetStation Data'\n",
    "\n",
    "    else:\n",
    "        input = f'/scratch/users/ethanroy/eeg_groupitizing_data/raw_data/{prefix}_{sub}/NetStationData'\n",
    "    \n",
    "    insert_subject_blocks(template, input, output, sub, blocks)\n"
   ]
  },
  {
   "cell_type": "code",
   "execution_count": null,
   "id": "b036d951",
   "metadata": {},
   "outputs": [
    {
     "data": {
      "text/plain": [
       "[200, 201, 202, 203, 204, 205, 206, 207, 208, 209, 210, 211, 212, 213]"
      ]
     },
     "execution_count": 18,
     "metadata": {},
     "output_type": "execute_result"
    }
   ],
   "source": []
  },
  {
   "cell_type": "code",
   "execution_count": null,
   "id": "e0092114",
   "metadata": {},
   "outputs": [],
   "source": []
  }
 ],
 "metadata": {
  "kernelspec": {
   "display_name": "mne",
   "language": "python",
   "name": "python3"
  },
  "language_info": {
   "codemirror_mode": {
    "name": "ipython",
    "version": 3
   },
   "file_extension": ".py",
   "mimetype": "text/x-python",
   "name": "python",
   "nbconvert_exporter": "python",
   "pygments_lexer": "ipython3",
   "version": "3.12.10"
  }
 },
 "nbformat": 4,
 "nbformat_minor": 5
}
